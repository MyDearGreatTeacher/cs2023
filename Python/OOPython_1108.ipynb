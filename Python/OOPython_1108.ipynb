{
  "nbformat": 4,
  "nbformat_minor": 0,
  "metadata": {
    "colab": {
      "provenance": []
    },
    "kernelspec": {
      "name": "python3",
      "display_name": "Python 3"
    },
    "language_info": {
      "name": "python"
    }
  },
  "cells": [
    {
      "cell_type": "code",
      "execution_count": 2,
      "metadata": {
        "colab": {
          "base_uri": "https://localhost:8080/"
        },
        "id": "Q1edAc6hnFO6",
        "outputId": "e3f4859e-3c33-4f6e-e2f9-35b034010f1f"
      },
      "outputs": [
        {
          "output_type": "stream",
          "name": "stdout",
          "text": [
            "24.691358024691358\n"
          ]
        }
      ],
      "source": [
        "class Human:\n",
        "    def __init__(self,h=0,w=0):\n",
        "        self.height=h\n",
        "        self.weight=w\n",
        "    def BMI(self):\n",
        "        return self.weight / ((self.height/100)**2)\n",
        "\n",
        "a = Human(180,80)\n",
        "print(a.BMI())"
      ]
    },
    {
      "cell_type": "code",
      "source": [
        "class Human:\n",
        "    def __init__(self,h=0,w=0):\n",
        "        self.height=h\n",
        "        self.weight=w\n",
        "    def BMI(self):\n",
        "        return self.weight / ((self.height/100)**2)\n",
        "\n",
        "class Woman(Human):\n",
        "    def __init__(self,h,w,bust=0,waist=0,hip=0):\n",
        "        super().__init__(h,w)\n",
        "        self.bust=bust\n",
        "        self.waist=waist\n",
        "        self.hip=hip\n",
        "    def printBWH(self):\n",
        "        print(\"bust={},waist={},hip={}\".format(self.bust,self.waist,self.hip))\n",
        "\n",
        "a = Woman(165,54,83,64,84)\n",
        "print(a.BMI())\n",
        "a.printBWH()\n"
      ],
      "metadata": {
        "colab": {
          "base_uri": "https://localhost:8080/"
        },
        "id": "UgKkisjzn15H",
        "outputId": "90456c49-844b-4b30-974d-fcc9d575963c"
      },
      "execution_count": 3,
      "outputs": [
        {
          "output_type": "stream",
          "name": "stdout",
          "text": [
            "19.834710743801654\n",
            "bust=83,waist=64,hip=84\n"
          ]
        }
      ]
    },
    {
      "cell_type": "code",
      "source": [
        "class Human:\n",
        "    def __init__(self,h=0,w=0):\n",
        "        self.height=h\n",
        "        self.weight=w\n",
        "    def BMI(self):\n",
        "        return self.weight / ((self.height/100)**2)\n",
        "    def __gt__(self,other):\n",
        "        return float(self.BMI()) > float(other.BMI())\n",
        "\n",
        "a = Human(180,80)\n",
        "print(\"a.BMI()\",a.BMI())\n",
        "b = Human(170,70)\n",
        "print(\"b.BMI()\",b.BMI())\n",
        "print(a>b)\n",
        "print(b>a)\n"
      ],
      "metadata": {
        "colab": {
          "base_uri": "https://localhost:8080/"
        },
        "id": "TLqcXlkFoZll",
        "outputId": "ba02aa62-2a49-4aa3-e3ad-9dc4db6fbf4c"
      },
      "execution_count": 4,
      "outputs": [
        {
          "output_type": "stream",
          "name": "stdout",
          "text": [
            "a.BMI() 24.691358024691358\n",
            "b.BMI() 24.221453287197235\n",
            "True\n",
            "False\n"
          ]
        }
      ]
    },
    {
      "cell_type": "code",
      "source": [
        "class Human:\n",
        "    def __init__(self,h=0,w=0):\n",
        "        self.height=h\n",
        "        self.weight=w\n",
        "    def BMI(self):\n",
        "        return self.weight / ((self.height/100)**2)\n",
        "    def __gt__(self,other):\n",
        "        return float(self.BMI()) > float(other.BMI())\n",
        "b = Human(170,70)\n",
        "print(\"b.BMI()\",b.BMI())\n",
        "a = Human(180,80)\n",
        "print(\"a.BMI()\",a.BMI())\n",
        "\n",
        "print(a>b)\n",
        "print(b>a)"
      ],
      "metadata": {
        "colab": {
          "base_uri": "https://localhost:8080/"
        },
        "id": "gtQqIay3op6a",
        "outputId": "381591e3-8cb1-4383-a8e3-5378326d0a6e"
      },
      "execution_count": 5,
      "outputs": [
        {
          "output_type": "stream",
          "name": "stdout",
          "text": [
            "b.BMI() 24.221453287197235\n",
            "a.BMI() 24.691358024691358\n",
            "True\n",
            "False\n"
          ]
        }
      ]
    }
  ]
}